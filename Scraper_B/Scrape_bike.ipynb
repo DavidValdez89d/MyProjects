{
 "cells": [
  {
   "cell_type": "code",
   "execution_count": 3,
   "id": "be2f87ab-63ef-4822-962b-2a7ae4ee7dca",
   "metadata": {},
   "outputs": [],
   "source": [
    "import requests\n",
    "from bs4 import BeautifulSoup as bsoup\n",
    "\n",
    "link_main = 'https://www.scott-sports.com/be/en/products/bike-bikes-mountain-sport/Model/Aspect'\n",
    "\n",
    "def get_page_links(url):\n",
    "    print('get links init')\n",
    "    r = requests.get(url)\n",
    "    soup = bsoup(r.text,'html')\n",
    "    re = requests.get(url).json\n",
    "    print(re)\n",
    "    print('donesoup')\n",
    "    links = soup.select('div.article a')\n",
    "    print(links)\n",
    "    print('links done')\n",
    "    root_url = 'https://www.scott-sports.com'  #we add the root_url since is not in the data\n",
    "    return [root_url + link.attrs['href'] for link in links if 'article' in link.attrs['href']]\n",
    "    #return [root_url + link.attrs['href'] for link in links if '#' not in link.attrs['href'] or 'article=' not in link.attrs['href']]\n",
    "    print('list done')\n",
    "\n",
    "def get_product_data(url):\n",
    "    r = requests.get(url)\n",
    "    soup = bsoup(r.text,'html')\n",
    "    product = {\n",
    "        'url': url,\n",
    "        'name': soup.select_one('h1.hiphen').text.strip().replace('\\n',' '),\n",
    "        'price': float(soup.select_one('p.price--msrp').text.strip().replace('€','').replace(',','')),\n",
    "        #'model': soup.select_one('div.art-n-cat').text.strip().replace('\\n',' '),\n",
    "        'key_features': soup.select_one('ul.key-features').text.strip().replace('\\n',' ')\n",
    "        \n",
    "    }\n",
    "    print(product)\n",
    "    print('product done')\n",
    "    return product\n",
    "    \n",
    "def main():\n",
    "    urls = get_page_links(link_main)\n",
    "    data = [get_product_data(url) for url in urls]\n",
    "    return data\n",
    "    "
   ]
  },
  {
   "cell_type": "code",
   "execution_count": 4,
   "id": "093cd46b-f74f-458b-900f-786f12de2142",
   "metadata": {
    "tags": []
   },
   "outputs": [
    {
     "name": "stdout",
     "output_type": "stream",
     "text": [
      "get links init\n",
      "<bound method Response.json of <Response [200]>>\n",
      "donesoup\n",
      "[]\n",
      "links done\n"
     ]
    },
    {
     "data": {
      "text/plain": [
       "[]"
      ]
     },
     "execution_count": 4,
     "metadata": {},
     "output_type": "execute_result"
    }
   ],
   "source": [
    "get_page_links(link_main)"
   ]
  },
  {
   "cell_type": "code",
   "execution_count": 3,
   "id": "6e987312-0281-4f37-b2e1-95d3c7a2484f",
   "metadata": {
    "tags": []
   },
   "outputs": [
    {
     "name": "stdout",
     "output_type": "stream",
     "text": [
      "get links init\n",
      "<bound method Response.json of <Response [200]>>\n",
      "donesoup\n",
      "[]\n",
      "links done\n",
      "[]\n"
     ]
    }
   ],
   "source": [
    "print(main())"
   ]
  },
  {
   "cell_type": "code",
   "execution_count": 4,
   "id": "f7da678a-db9a-4d71-ae11-7a83f26acca8",
   "metadata": {},
   "outputs": [
    {
     "name": "stdout",
     "output_type": "stream",
     "text": [
      "hello\n"
     ]
    }
   ],
   "source": [
    "print('hello')"
   ]
  },
  {
   "cell_type": "code",
   "execution_count": null,
   "id": "85d75774-044f-4f6a-8e76-1240d94e6335",
   "metadata": {},
   "outputs": [],
   "source": []
  },
  {
   "cell_type": "code",
   "execution_count": null,
   "id": "ca9a8225-b9ee-40a8-a0d5-eeaa615ae16e",
   "metadata": {},
   "outputs": [],
   "source": []
  }
 ],
 "metadata": {
  "kernelspec": {
   "display_name": "Python 3 (ipykernel)",
   "language": "python",
   "name": "python3"
  },
  "language_info": {
   "codemirror_mode": {
    "name": "ipython",
    "version": 3
   },
   "file_extension": ".py",
   "mimetype": "text/x-python",
   "name": "python",
   "nbconvert_exporter": "python",
   "pygments_lexer": "ipython3",
   "version": "3.10.6"
  }
 },
 "nbformat": 4,
 "nbformat_minor": 5
}
