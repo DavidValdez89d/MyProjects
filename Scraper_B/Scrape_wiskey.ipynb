{
 "cells": [
  {
   "cell_type": "markdown",
   "id": "7a25724a-3376-48ba-86b5-2e1af2dc6c22",
   "metadata": {},
   "source": [
    "## Web scraping\n",
    "\n",
    "This is a web scraping from: https://www.youtube.com/watch?v=UClHOT_7hok"
   ]
  },
  {
   "cell_type": "markdown",
   "id": "e0d07719-9a1b-4bba-8587-7db4062778a6",
   "metadata": {},
   "source": [
    "First we import the modules that we will use"
   ]
  },
  {
   "cell_type": "markdown",
   "id": "4d07e4f2-25f7-4cfe-9606-99255fa25d33",
   "metadata": {},
   "source": [
    "define the urls"
   ]
  },
  {
   "cell_type": "code",
   "execution_count": 1,
   "id": "001961d7-4cde-4c78-bf92-b27466d051a5",
   "metadata": {},
   "outputs": [],
   "source": [
    "import pandas as pd\n",
    "#pandas.__version__\n",
    "#from intertools import chain"
   ]
  },
  {
   "cell_type": "code",
   "execution_count": null,
   "id": "78e6e887-41b3-416f-9033-97ccd5ce624b",
   "metadata": {},
   "outputs": [],
   "source": [
    "df = pd.DataFrame(list(chain.from_iterable(main())))\n",
    "df.to_csv('scrape.csv')\n",
    "print('Saved to CSV')\n"
   ]
  },
  {
   "cell_type": "code",
   "execution_count": 10,
   "id": "c378323b-43d8-4c1a-b488-e7e193d232bf",
   "metadata": {},
   "outputs": [],
   "source": [
    "import requests\n",
    "from bs4 import BeautifulSoup as bs\n",
    "import pandas as pd\n",
    "\n",
    "\n",
    "def get_page_links(url):\n",
    "    root_url = 'https://www.thewhiskyexchange.com'\n",
    "    r = requests.get(url)\n",
    "    soup = bs(r.text,'lxml')\n",
    "    links = soup.select('li.product-grid__item a')\n",
    "    return [root_url + link.attrs['href'] for link in links]\n",
    "\n",
    "def get_product_data(url):\n",
    "    r = requests.get(url)\n",
    "    soup = bs(r.text,'lxml')\n",
    "    #This is an easier way to get Data into Dictionaries\n",
    "    product = {\n",
    "        'url': url,\n",
    "        'title': soup.select_one('h1.product-main__name').text.strip().replace('\\n',' '),\n",
    "        'price': float(soup.select_one('p.product-action__price').text.strip().replace('£','')),\n",
    "        'size_alcohol': soup.select_one('p.product-main__data').text.strip(),\n",
    "        'description': soup.select_one('div.product-main__description p').text.strip().replace('\\n',' ')\n",
    "    }\n",
    "    return product\n",
    "\n",
    "def main():\n",
    "    urls = get_page_links('https://www.thewhiskyexchange.com/c/40/single-malt-scotch-whisky?psize=120')\n",
    "    data = [get_product_data(url) for url in urls]\n",
    "    return data\n"
   ]
  },
  {
   "cell_type": "code",
   "execution_count": 11,
   "id": "ef9a7401-9bf2-40a9-8b8d-84bee28d7ed9",
   "metadata": {
    "tags": []
   },
   "outputs": [
    {
     "ename": "AttributeError",
     "evalue": "'NoneType' object has no attribute 'text'",
     "output_type": "error",
     "traceback": [
      "\u001b[0;31m---------------------------------------------------------------------------\u001b[0m",
      "\u001b[0;31mAttributeError\u001b[0m                            Traceback (most recent call last)",
      "Cell \u001b[0;32mIn [11], line 1\u001b[0m\n\u001b[0;32m----> 1\u001b[0m df\u001b[38;5;241m=\u001b[39m(\u001b[43mmain\u001b[49m\u001b[43m(\u001b[49m\u001b[43m)\u001b[49m)\n\u001b[1;32m      2\u001b[0m df\u001b[38;5;241m.\u001b[39mto_csv(\u001b[38;5;124m'\u001b[39m\u001b[38;5;124mscrape.csv\u001b[39m\u001b[38;5;124m'\u001b[39m)\n\u001b[1;32m      3\u001b[0m \u001b[38;5;28mprint\u001b[39m(\u001b[38;5;124m'\u001b[39m\u001b[38;5;124mSaved to CSV\u001b[39m\u001b[38;5;124m'\u001b[39m)\n",
      "Cell \u001b[0;32mIn [10], line 28\u001b[0m, in \u001b[0;36mmain\u001b[0;34m()\u001b[0m\n\u001b[1;32m     26\u001b[0m \u001b[38;5;28;01mdef\u001b[39;00m \u001b[38;5;21mmain\u001b[39m():\n\u001b[1;32m     27\u001b[0m     urls \u001b[38;5;241m=\u001b[39m get_page_links(\u001b[38;5;124m'\u001b[39m\u001b[38;5;124mhttps://www.thewhiskyexchange.com/c/40/single-malt-scotch-whisky?psize=120\u001b[39m\u001b[38;5;124m'\u001b[39m)\n\u001b[0;32m---> 28\u001b[0m     data \u001b[38;5;241m=\u001b[39m [get_product_data(url) \u001b[38;5;28;01mfor\u001b[39;00m url \u001b[38;5;129;01min\u001b[39;00m urls]\n\u001b[1;32m     29\u001b[0m     \u001b[38;5;28;01mreturn\u001b[39;00m data\n",
      "Cell \u001b[0;32mIn [10], line 28\u001b[0m, in \u001b[0;36m<listcomp>\u001b[0;34m(.0)\u001b[0m\n\u001b[1;32m     26\u001b[0m \u001b[38;5;28;01mdef\u001b[39;00m \u001b[38;5;21mmain\u001b[39m():\n\u001b[1;32m     27\u001b[0m     urls \u001b[38;5;241m=\u001b[39m get_page_links(\u001b[38;5;124m'\u001b[39m\u001b[38;5;124mhttps://www.thewhiskyexchange.com/c/40/single-malt-scotch-whisky?psize=120\u001b[39m\u001b[38;5;124m'\u001b[39m)\n\u001b[0;32m---> 28\u001b[0m     data \u001b[38;5;241m=\u001b[39m [\u001b[43mget_product_data\u001b[49m\u001b[43m(\u001b[49m\u001b[43murl\u001b[49m\u001b[43m)\u001b[49m \u001b[38;5;28;01mfor\u001b[39;00m url \u001b[38;5;129;01min\u001b[39;00m urls]\n\u001b[1;32m     29\u001b[0m     \u001b[38;5;28;01mreturn\u001b[39;00m data\n",
      "Cell \u001b[0;32mIn [10], line 19\u001b[0m, in \u001b[0;36mget_product_data\u001b[0;34m(url)\u001b[0m\n\u001b[1;32m     15\u001b[0m soup \u001b[38;5;241m=\u001b[39m bs(r\u001b[38;5;241m.\u001b[39mtext,\u001b[38;5;124m'\u001b[39m\u001b[38;5;124mlxml\u001b[39m\u001b[38;5;124m'\u001b[39m)\n\u001b[1;32m     16\u001b[0m \u001b[38;5;66;03m#This is an easier way to get Data into Dictionaries\u001b[39;00m\n\u001b[1;32m     17\u001b[0m product \u001b[38;5;241m=\u001b[39m {\n\u001b[1;32m     18\u001b[0m     \u001b[38;5;124m'\u001b[39m\u001b[38;5;124murl\u001b[39m\u001b[38;5;124m'\u001b[39m: url,\n\u001b[0;32m---> 19\u001b[0m     \u001b[38;5;124m'\u001b[39m\u001b[38;5;124mtitle\u001b[39m\u001b[38;5;124m'\u001b[39m: \u001b[43msoup\u001b[49m\u001b[38;5;241;43m.\u001b[39;49m\u001b[43mselect_one\u001b[49m\u001b[43m(\u001b[49m\u001b[38;5;124;43m'\u001b[39;49m\u001b[38;5;124;43mh1.product-main__name\u001b[39;49m\u001b[38;5;124;43m'\u001b[39;49m\u001b[43m)\u001b[49m\u001b[38;5;241;43m.\u001b[39;49m\u001b[43mtext\u001b[49m\u001b[38;5;241m.\u001b[39mstrip()\u001b[38;5;241m.\u001b[39mreplace(\u001b[38;5;124m'\u001b[39m\u001b[38;5;130;01m\\n\u001b[39;00m\u001b[38;5;124m'\u001b[39m,\u001b[38;5;124m'\u001b[39m\u001b[38;5;124m \u001b[39m\u001b[38;5;124m'\u001b[39m),\n\u001b[1;32m     20\u001b[0m     \u001b[38;5;124m'\u001b[39m\u001b[38;5;124mprice\u001b[39m\u001b[38;5;124m'\u001b[39m: \u001b[38;5;28mfloat\u001b[39m(soup\u001b[38;5;241m.\u001b[39mselect_one(\u001b[38;5;124m'\u001b[39m\u001b[38;5;124mp.product-action__price\u001b[39m\u001b[38;5;124m'\u001b[39m)\u001b[38;5;241m.\u001b[39mtext\u001b[38;5;241m.\u001b[39mstrip()\u001b[38;5;241m.\u001b[39mreplace(\u001b[38;5;124m'\u001b[39m\u001b[38;5;124m£\u001b[39m\u001b[38;5;124m'\u001b[39m,\u001b[38;5;124m'\u001b[39m\u001b[38;5;124m'\u001b[39m)),\n\u001b[1;32m     21\u001b[0m     \u001b[38;5;124m'\u001b[39m\u001b[38;5;124msize_alcohol\u001b[39m\u001b[38;5;124m'\u001b[39m: soup\u001b[38;5;241m.\u001b[39mselect_one(\u001b[38;5;124m'\u001b[39m\u001b[38;5;124mp.product-main__data\u001b[39m\u001b[38;5;124m'\u001b[39m)\u001b[38;5;241m.\u001b[39mtext\u001b[38;5;241m.\u001b[39mstrip(),\n\u001b[1;32m     22\u001b[0m     \u001b[38;5;124m'\u001b[39m\u001b[38;5;124mdescription\u001b[39m\u001b[38;5;124m'\u001b[39m: soup\u001b[38;5;241m.\u001b[39mselect_one(\u001b[38;5;124m'\u001b[39m\u001b[38;5;124mdiv.product-main__description p\u001b[39m\u001b[38;5;124m'\u001b[39m)\u001b[38;5;241m.\u001b[39mtext\u001b[38;5;241m.\u001b[39mstrip()\u001b[38;5;241m.\u001b[39mreplace(\u001b[38;5;124m'\u001b[39m\u001b[38;5;130;01m\\n\u001b[39;00m\u001b[38;5;124m'\u001b[39m,\u001b[38;5;124m'\u001b[39m\u001b[38;5;124m \u001b[39m\u001b[38;5;124m'\u001b[39m)\n\u001b[1;32m     23\u001b[0m }\n\u001b[1;32m     24\u001b[0m \u001b[38;5;28;01mreturn\u001b[39;00m product\n",
      "\u001b[0;31mAttributeError\u001b[0m: 'NoneType' object has no attribute 'text'"
     ]
    }
   ],
   "source": [
    "df=(main())\n",
    "df.to_csv('scrape.csv')\n",
    "print('Saved to CSV')"
   ]
  },
  {
   "cell_type": "markdown",
   "id": "8ea2eed7-9f15-42fc-889a-b4c66c400cd6",
   "metadata": {},
   "source": [
    "Neet to do an 'if statement' in order to bypass the 'NoneType' error, because it happens to different products "
   ]
  },
  {
   "cell_type": "code",
   "execution_count": null,
   "id": "1bdfc8f0-dd43-468d-b0b5-a8385730ded2",
   "metadata": {},
   "outputs": [],
   "source": []
  }
 ],
 "metadata": {
  "kernelspec": {
   "display_name": "Python 3 (ipykernel)",
   "language": "python",
   "name": "python3"
  },
  "language_info": {
   "codemirror_mode": {
    "name": "ipython",
    "version": 3
   },
   "file_extension": ".py",
   "mimetype": "text/x-python",
   "name": "python",
   "nbconvert_exporter": "python",
   "pygments_lexer": "ipython3",
   "version": "3.10.6"
  }
 },
 "nbformat": 4,
 "nbformat_minor": 5
}
